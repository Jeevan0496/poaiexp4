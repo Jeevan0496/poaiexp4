{
  "nbformat": 4,
  "nbformat_minor": 0,
  "metadata": {
    "colab": {
      "provenance": [],
      "authorship_tag": "ABX9TyPxl8zjM3Rxnp3zqO3AHvQE",
      "include_colab_link": true
    },
    "kernelspec": {
      "name": "python3",
      "display_name": "Python 3"
    },
    "language_info": {
      "name": "python"
    }
  },
  "cells": [
    {
      "cell_type": "markdown",
      "metadata": {
        "id": "view-in-github",
        "colab_type": "text"
      },
      "source": [
        "<a href=\"https://colab.research.google.com/github/Jeevan0496/poaiexp4/blob/main/Untitled3.ipynb\" target=\"_parent\"><img src=\"https://colab.research.google.com/assets/colab-badge.svg\" alt=\"Open In Colab\"/></a>"
      ]
    },
    {
      "cell_type": "code",
      "execution_count": null,
      "metadata": {
        "id": "tLvzxU34C5vw"
      },
      "outputs": [],
      "source": []
    },
    {
      "cell_type": "code",
      "source": [
        "import heapq\n",
        "import matplotlib.pyplot as plt\n",
        "import numpy as np\n",
        "\n",
        "# Constants for grid cells\n",
        "EMPTY = 0\n",
        "OBSTACLE = 1\n",
        "\n",
        "# Define the grid and movements\n",
        "class Node:\n",
        "    def __init__(self, position, parent=None, g=0, h=0):\n",
        "        self.position = position  # (row, col)\n",
        "        self.parent = parent      # Parent node\n",
        "        self.g = g                # Cost from start node\n",
        "        self.h = h                # Heuristic cost to goal\n",
        "        self.f = g + h            # Total cost\n",
        "\n",
        "    def __lt__(self, other):\n",
        "        return self.f < other.f  # Priority queue comparison\n",
        "\n",
        "def heuristic(a, b):\n",
        "    return abs(a[0] - b[0]) + abs(a[1] - b[1])  # Manhattan Distance\n",
        "\n",
        "def a_star(grid, start, goal):\n",
        "    rows, cols = len(grid), len(grid[0])\n",
        "    open_list = []\n",
        "    heapq.heappush(open_list, Node(start, None, 0, heuristic(start, goal)))\n",
        "    closed_set = set()\n",
        "\n",
        "    while open_list:\n",
        "        current_node = heapq.heappop(open_list)  # Get node with lowest f-value\n",
        "        if current_node.position == goal:\n",
        "            path = []\n",
        "            while current_node:\n",
        "                path.append(current_node.position)\n",
        "                current_node = current_node.parent\n",
        "            return path[::-1]  # Return reversed path\n",
        "\n",
        "        closed_set.add(current_node.position)\n",
        "        for dr, dc in [(-1, 0), (1, 0), (0, -1), (0, 1), (-1, -1), (-1, 1), (1, -1), (1, 1)]:\n",
        "            new_pos = (current_node.position[0] + dr, current_node.position[1] + dc)\n",
        "            if (0 <= new_pos[0] < rows and 0 <= new_pos[1] < cols and\n",
        "                grid[new_pos[0]][new_pos[1]] == EMPTY and new_pos not in closed_set):\n",
        "                new_node = Node(new_pos, current_node, current_node.g + 1, heuristic(new_pos, goal))\n",
        "                heapq.heappush(open_list, new_node)\n",
        "\n",
        "    return None  # No path found\n",
        "def plot_path(grid, path):\n",
        "    grid_copy = np.array(grid, dtype=int)\n",
        "    for (row, col) in path:\n",
        "        grid_copy[row][col] = 2  # Mark path with '2'\n",
        "\n",
        "    plt.imshow(grid_copy, cmap='hot', interpolation='nearest')\n",
        "    plt.colorbar()\n",
        "    plt.show()\n",
        "# Example grid: 0 = free space, 1 = obstacle\n",
        "warehouse_grid = [\n",
        "    [0, 0, 0, 0, 1],\n",
        "    [1, 1, 0, 1, 0],\n",
        "    [0, 0, 0, 0, 0],\n",
        "    [0, 1, 1, 1, 0],\n",
        "    [0, 0, 0, 0, 0]\n",
        "]\n",
        "\n",
        "start_position = (0, 0)\n",
        "goal_position = (4, 4)\n",
        "\n",
        "path = a_star(warehouse_grid, start_position, goal_position)\n",
        "print(\"Optimal Path:\", path)\n",
        "\n",
        "# Visualize the path\n",
        "plot_path(warehouse_grid, path)\n"
      ],
      "metadata": {
        "colab": {
          "base_uri": "https://localhost:8080/",
          "height": 452
        },
        "id": "z7qjvAo-C6me",
        "outputId": "eb1593c1-1acb-4236-a039-dc5370c05027"
      },
      "execution_count": 3,
      "outputs": [
        {
          "output_type": "stream",
          "name": "stdout",
          "text": [
            "Optimal Path: [(0, 0), (0, 1), (1, 2), (2, 3), (3, 4), (4, 4)]\n"
          ]
        },
        {
          "output_type": "display_data",
          "data": {
            "text/plain": [
              "<Figure size 640x480 with 2 Axes>"
            ],
            "image/png": "[encoded data removed]"
          },
          "metadata": {}
        }
      ]
    }
  ]
}